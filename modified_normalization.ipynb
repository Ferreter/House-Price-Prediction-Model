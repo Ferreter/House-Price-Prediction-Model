{
 "cells": [
  {
   "cell_type": "code",
   "execution_count": 3,
   "metadata": {},
   "outputs": [],
   "source": [
    "from sklearn.preprocessing import MinMaxScaler, StandardScaler\n",
    "from sklearn.decomposition import PCA\n",
    "from sklearn.linear_model import LinearRegression\n",
    "from sklearn.preprocessing import StandardScaler\n",
    "from sklearn.decomposition import PCA\n",
    "from sklearn.model_selection import train_test_split\n",
    "from sklearn.metrics import mean_squared_error\n",
    "import seaborn as sns\n",
    "import matplotlib.pyplot as plt\n",
    "import pandas as pd\n",
    "from sklearn.preprocessing import MinMaxScaler\n",
    "import pandas as pd\n",
    "import matplotlib.pyplot as plt\n",
    "import seaborn as sns\n",
    "\n",
    "import statsmodels.api as sm\n",
    "import scipy.stats as stats\n",
    "import numpy as np\n",
    "# Drop non-numeric columns which cannot be used in correlation calculation\n",
    "\n",
    "\n",
    "file_path = 'dataset/cleaned_data.csv'\n",
    "\n",
    "\n",
    "# Load the dataset\n",
    "data_fillmean = pd.read_csv(file_path)\n",
    "# Assuming 'data_fillmean' is your DataFrame\n",
    "\n",
    "# Assuming the date column is named 'date'\n",
    "data_fillmean['date'] = pd.to_datetime(data_fillmean['date'])\n",
    "data_fillmean['year'] = data_fillmean['date'].dt.year  # Extract year\n",
    "data_fillmean['month'] = data_fillmean['date'].dt.month  # Extract month\n",
    "data_fillmean['day'] = data_fillmean['date'].dt.day  # Extract day\n",
    "\n",
    "# Now you can drop the original 'date' column if it's no longer needed\n",
    "data_fillmean.drop('date', axis=1, inplace=True)\n"
   ]
  },
  {
   "cell_type": "code",
   "execution_count": null,
   "metadata": {},
   "outputs": [],
   "source": [
    "# Min-Max Scaling\n",
    "min_max_scaler = MinMaxScaler()\n",
    "data_minmax = min_max_scaler.fit_transform(data_fillmean.select_dtypes(include=[np.number]))\n",
    "data_fillmean_minmax = pd.DataFrame(data_minmax, columns=data_fillmean.select_dtypes(include=[np.number]).columns)\n",
    "\n",
    "# Standardization\n",
    "standard_scaler = StandardScaler()\n",
    "data_standardized = standard_scaler.fit_transform(data_fillmean.select_dtypes(include=[np.number]))\n",
    "data_fillmean_standardized = pd.DataFrame(data_standardized, columns=data_fillmean.select_dtypes(include=[np.number])..columns)\n",
    "\n",
    "# Display the first few rows to confirm the transformation\n",
    "print(data_fillmean_minmax.head())\n",
    "print(data_fillmean_standardized.head())"
   ]
  }
 ],
 "metadata": {
  "kernelspec": {
   "display_name": "base",
   "language": "python",
   "name": "python3"
  },
  "language_info": {
   "codemirror_mode": {
    "name": "ipython",
    "version": 3
   },
   "file_extension": ".py",
   "mimetype": "text/x-python",
   "name": "python",
   "nbconvert_exporter": "python",
   "pygments_lexer": "ipython3",
   "version": "3.11.5"
  }
 },
 "nbformat": 4,
 "nbformat_minor": 2
}
